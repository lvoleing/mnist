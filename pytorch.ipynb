{
 "cells": [
  {
   "cell_type": "markdown",
   "metadata": {},
   "source": [
    "# Pytorch Tutorial"
   ]
  },
  {
   "cell_type": "markdown",
   "metadata": {},
   "source": [
    "Pytorch is a popular deep learning framework and it's easy to get started."
   ]
  },
  {
   "cell_type": "code",
   "execution_count": null,
   "metadata": {
    "collapsed": true
   },
   "outputs": [],
   "source": [
    "import torch\n",
    "import torch.nn as nn\n",
    "import torch.utils.data as data\n",
    "import torchvision\n",
    "import torchvision.transforms as transforms\n",
    "from tqdm import tqdm\n",
    "import time\n",
    "\n",
    "BATCH_SIZE = 128\n",
    "NUM_EPOCHS = 10"
   ]
  },
  {
   "cell_type": "markdown",
   "metadata": {},
   "source": [
    "First, we read the mnist data, preprocess them and encapsulate them into dataloader form."
   ]
  },
  {
   "cell_type": "code",
   "execution_count": null,
   "metadata": {
    "collapsed": true
   },
   "outputs": [],
   "source": [
    "# preprocessing\n",
    "normalize = transforms.Normalize(mean=[.5], std=[.5])\n",
    "transform = transforms.Compose([transforms.ToTensor(), normalize])\n",
    "\n",
    "# download and load the data\n",
    "train_dataset = torchvision.datasets.MNIST(root='./mnist/', train=True, transform=transform, download=True)\n",
    "test_dataset = torchvision.datasets.MNIST(root='./mnist/', train=False, transform=transform, download=False)\n",
    "\n",
    "# encapsulate them into dataloader form\n",
    "train_loader = data.DataLoader(train_dataset, batch_size=BATCH_SIZE, shuffle=True, drop_last=True)\n",
    "test_loader = data.DataLoader(test_dataset, batch_size=BATCH_SIZE, shuffle=False, drop_last=True)"
   ]
  },
  {
   "cell_type": "markdown",
   "metadata": {},
   "source": [
    "Then, we define the model, object function and optimizer that we use to classify."
   ]
  },
  {
   "cell_type": "code",
   "execution_count": null,
   "metadata": {
    "collapsed": true
   },
   "outputs": [],
   "source": [
    "class SimpleNet(nn.Module):\n",
    "# TODO:define model\n",
    "num_classes = 10\n",
    "hidden_size = 100\n",
    "class neural_net(nn.Module):\n",
    "def __init__(self, input_num,hidden_size, out_put):\n",
    "super(neural_net, self).__init__()\n",
    "self.fc1 = nn.Linear(input_num, hidden_size)\n",
    " self.relu = nn.ReLU()\n",
    " self.fc2 = nn.Linear(hidden_size, out_put)\n",
    "  def forward(self, x):\n",
    "out = self.fc1(x) \n",
    "out = self.relu(out)\n",
    "out = self.fc2(out)\n",
    "return out\n",
    "model =neural_net(input_size, hidden_size, num_classes)\n",
    "print(model)\n",
    "neural_net (\n",
    "(fc1): Linear (784 -> 100)\n",
    "(relu): ReLU ()\n",
    "(fc2): Linear (100 -> 10))\n",
    "# TODO:define loss function and optimiter\n",
    "learning_rate = 1e-3\n",
    "criterion = nn.CrossEntropyLoss()\n",
    "optimizer = torch.optim.Adam(model.parameters(), lr = learning_rate) "
   ]
  },
  {
   "cell_type": "markdown",
   "metadata": {},
   "source": [
    "Next, we can start to train and evaluate!"
   ]
  },
  {
   "cell_type": "code",
   "execution_count": null,
   "metadata": {
    "collapsed": true,
    "scrolled": true
   },
   "outputs": [],
   "source": [
    "# train and evaluate\n",
    "for epoch in range(NUM_EPOCHS):\n",
    "    for images, labels in tqdm(train_loader):\n",
    "        # TODO:forward + backward + optimize\n",
    " print('current epoch = %d' % epoch)     \n",
    " for i, (images, labels) in enumerate(train_loader):  \n",
    " images = Variable(images.view(-1, 28 * 28))  \n",
    " labels = Variable(labels)   \n",
    "  optimizer.zero_grad()  \n",
     " outputs = model(images)\n",
     "  loss = criterion(outputs, labels)  \n",
     "   loss.backward()  \n",
     "    optimizer.step() \n",
     "if i % 100 == 0:\n",
    "    # evaluate\n",
    "    # TODO:calculate the accuracy using traning and testing dataset\n",
    "    print('current loss = %.5f' % loss.data[0]) \n",
    "total = 0 correct = 0\n",
    "  for images, labels in test_loader: \n",
    " images = Variable(images.view(-1, 28 * 28)) \n",
    " outputs = model(images)\n",
    " predicts = torch.max(outputs.data, 1) \n",
    "total += labels.size(0)  \n",
    " correct += (predicts == labels).sum() \n",
    "print('Accuracy = %.2f' % (100 * correct / total))\n"
   ]
  },
  {
   "cell_type": "markdown",
   "metadata": {},
   "source": [
    "#### Q5:\n",
    "Please print the training and testing accuracy."
   ]
  }
 ],
 "metadata": {
  "kernelspec": {
   "display_name": "Python [default]",
   "language": "python",
   "name": "python3"
  },
  "language_info": {
   "codemirror_mode": {
    "name": "ipython",
    "version": 3
   },
   "file_extension": ".py",
   "mimetype": "text/x-python",
   "name": "python",
   "nbconvert_exporter": "python",
   "pygments_lexer": "ipython3",
   "version": "3.6.3"
  }
 },
 "nbformat": 4,
 "nbformat_minor": 2
}
